{
 "cells": [
  {
   "cell_type": "code",
   "execution_count": 2,
   "metadata": {},
   "outputs": [
    {
     "name": "stdout",
     "output_type": "stream",
     "text": [
      "['We', 'catched', 'fish', ',', 'and', 'talked', ',', 'and', 'we', 'took', 'a', 'swim', 'now', 'and', 'then', 'to', 'keep', 'off', 'sleepiness', '.', 'It', 'was', 'kind', 'of', 'solemn', ',', 'drifting', 'down', 'the', 'big', 'still', 'river', ',', 'laying', 'on', 'our', 'backs', 'looking', 'up', 'at', 'the', 'stars', ',', 'and', 'we', 'didn', '’', 't', 'ever', 'feel', 'like', 'talking', 'loud', ',', 'and', 'it', 'warn', '’', 't', 'often', 'that', 'we', 'laughed', ',', 'only', 'a', 'kind', 'of', 'low', 'chuckle', '.', 'We', 'had', 'mighty', 'good', 'weather', ',', 'as', 'a', 'general', 'thing', ',', 'and', 'nothing', 'ever', 'happened', 'to', 'us', 'at', 'all', ',', 'that', 'night', ',', 'nor', 'the', 'next', ',', 'nor', 'the', 'next', '.']\n",
      "['We catched fish, and talked, and we took a swim now and then to keep off sleepiness.', 'It was kind of solemn, drifting down the big still river, laying on our backs looking up at the stars, and we didn’t ever feel like talking loud, and it warn’t often that we laughed, only a kind of low chuckle.', 'We had mighty good weather, as a general thing, and nothing ever happened to us at all, that night, nor the next, nor the next.']\n",
      "[('We', 'PRP'), ('catched', 'VBD'), ('fish', 'JJ'), (',', ','), ('and', 'CC'), ('talked', 'VBD'), (',', ','), ('and', 'CC'), ('we', 'PRP'), ('took', 'VBD'), ('a', 'DT'), ('swim', 'NN'), ('now', 'RB'), ('and', 'CC'), ('then', 'RB'), ('to', 'TO'), ('keep', 'VB'), ('off', 'RP'), ('sleepiness', 'NN'), ('.', '.'), ('It', 'PRP'), ('was', 'VBD'), ('kind', 'NN'), ('of', 'IN'), ('solemn', 'NN'), (',', ','), ('drifting', 'VBG'), ('down', 'RP'), ('the', 'DT'), ('big', 'JJ'), ('still', 'RB'), ('river', 'NN'), (',', ','), ('laying', 'VBG'), ('on', 'IN'), ('our', 'PRP$'), ('backs', 'NNS'), ('looking', 'VBG'), ('up', 'RP'), ('at', 'IN'), ('the', 'DT'), ('stars', 'NNS'), (',', ','), ('and', 'CC'), ('we', 'PRP'), ('didn', 'VBP'), ('’', 'JJ'), ('t', 'NN'), ('ever', 'RB'), ('feel', 'VBP'), ('like', 'IN'), ('talking', 'VBG'), ('loud', 'JJ'), (',', ','), ('and', 'CC'), ('it', 'PRP'), ('warn', 'VBD'), ('’', 'NNP'), ('t', 'NNS'), ('often', 'RB'), ('that', 'IN'), ('we', 'PRP'), ('laughed', 'VBD'), (',', ','), ('only', 'RB'), ('a', 'DT'), ('kind', 'NN'), ('of', 'IN'), ('low', 'JJ'), ('chuckle', 'NN'), ('.', '.'), ('We', 'PRP'), ('had', 'VBD'), ('mighty', 'VBN'), ('good', 'JJ'), ('weather', 'NN'), (',', ','), ('as', 'IN'), ('a', 'DT'), ('general', 'JJ'), ('thing', 'NN'), (',', ','), ('and', 'CC'), ('nothing', 'NN'), ('ever', 'RB'), ('happened', 'VBD'), ('to', 'TO'), ('us', 'PRP'), ('at', 'IN'), ('all', 'DT'), (',', ','), ('that', 'WDT'), ('night', 'NN'), (',', ','), ('nor', 'CC'), ('the', 'DT'), ('next', 'JJ'), (',', ','), ('nor', 'CC'), ('the', 'DT'), ('next', 'JJ'), ('.', '.')]\n",
      "[(',', 12), ('NN', 12), ('JJ', 9), ('PRP', 8), ('VBD', 8), ('CC', 8), ('DT', 8), ('IN', 8), ('RB', 7), ('VBG', 4), ('RP', 3), ('.', 3), ('NNS', 3), ('TO', 2), ('VBP', 2), ('VB', 1), ('PRP$', 1), ('NNP', 1), ('VBN', 1), ('WDT', 1)]\n",
      "We:We\n",
      "catched:catch\n",
      "fish:fish\n",
      ",:,\n",
      "and:and\n",
      "talked:talk\n",
      ",:,\n",
      "and:and\n",
      "we:we\n",
      "took:took\n",
      "a:a\n",
      "swim:swim\n",
      "now:now\n",
      "and:and\n",
      "then:then\n",
      "to:to\n",
      "keep:keep\n",
      "off:off\n",
      "sleepiness:sleepi\n",
      ".:.\n",
      "buses:bus\n",
      "wishes:wish\n",
      "pitches:pitch\n",
      "boxes:box\n",
      "pennies:penny\n",
      "children:child\n",
      "potatoes:potato\n",
      "boats:boat\n",
      "cats:cat\n",
      "analyses:analysis\n",
      "theses:thesis\n",
      "phenomena:phenomenon\n"
     ]
    }
   ],
   "source": [
    "TextData=\"We catched fish, and talked, and we took a swim now and then to keep off sleepiness. It was kind of solemn, drifting down the big still river, laying on our backs looking up at the stars, and we didn’t ever feel like talking loud, and it warn’t often that we laughed, only a kind of low chuckle. We had mighty good weather, as a general thing, and nothing ever happened to us at all, that night, nor the next, nor the next.\"\n",
    "\n",
    "from nltk.tokenize import word_tokenize\n",
    "TextDataWords=word_tokenize(TextData)\n",
    "print(TextDataWords)\n",
    "len(TextDataWords)\n",
    "\n",
    "from nltk.tokenize import sent_tokenize\n",
    "TextDataSent = sent_tokenize(TextData)\n",
    "print(TextDataSent)\n",
    "len(TextDataSent)\n",
    "\n",
    "from nltk import pos_tag\n",
    "TextDataPT = pos_tag(TextDataWords)\n",
    "print(TextDataPT)\n",
    "len(TextDataPT)\n",
    "\n",
    "from nltk.probability import FreqDist\n",
    "TagFrequency = FreqDist(tag for (word, tag) in TextDataPT)\n",
    "print(TagFrequency.most_common())\n",
    "\n",
    "from nltk.stem import PorterStemmer\n",
    "PtSt = PorterStemmer()\n",
    "for word in TextDataWords[0:20]:\n",
    "    print(word + \":\" + PtSt.stem(word))\n",
    "    \n",
    "from nltk.stem import WordNetLemmatizer\n",
    "WnetLem = WordNetLemmatizer()\n",
    "Plurals =['buses','wishes','pitches', 'boxes', 'pennies', 'children', 'potatoes', 'boats', 'cats', 'analyses', 'theses', 'phenomena']\n",
    "for word in Plurals:\n",
    "    print(word + \":\" + WnetLem.lemmatize(word))"
   ]
  },
  {
   "cell_type": "code",
   "execution_count": null,
   "metadata": {},
   "outputs": [],
   "source": []
  }
 ],
 "metadata": {
  "kernelspec": {
   "display_name": "Python 3",
   "language": "python",
   "name": "python3"
  },
  "language_info": {
   "codemirror_mode": {
    "name": "ipython",
    "version": 3
   },
   "file_extension": ".py",
   "mimetype": "text/x-python",
   "name": "python",
   "nbconvert_exporter": "python",
   "pygments_lexer": "ipython3",
   "version": "3.6.2"
  }
 },
 "nbformat": 4,
 "nbformat_minor": 2
}
