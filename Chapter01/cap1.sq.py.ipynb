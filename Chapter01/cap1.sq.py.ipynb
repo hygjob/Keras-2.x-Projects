{
 "cells": [
  {
   "cell_type": "code",
   "execution_count": 1,
   "metadata": {},
   "outputs": [
    {
     "name": "stderr",
     "output_type": "stream",
     "text": [
      "Using TensorFlow backend.\n"
     ]
    },
    {
     "name": "stdout",
     "output_type": "stream",
     "text": [
      "Epoch 1/10\n",
      "1000/1000 [==============================] - 0s 188us/step - loss: 0.7241 - acc: 0.4820\n",
      "Epoch 2/10\n",
      "1000/1000 [==============================] - 0s 72us/step - loss: 0.6991 - acc: 0.5120\n",
      "Epoch 3/10\n",
      "1000/1000 [==============================] - 0s 79us/step - loss: 0.6943 - acc: 0.5200\n",
      "Epoch 4/10\n",
      "1000/1000 [==============================] - 0s 78us/step - loss: 0.6871 - acc: 0.5470\n",
      "Epoch 5/10\n",
      "1000/1000 [==============================] - 0s 73us/step - loss: 0.6812 - acc: 0.5570\n",
      "Epoch 6/10\n",
      "1000/1000 [==============================] - 0s 79us/step - loss: 0.6801 - acc: 0.5600\n",
      "Epoch 7/10\n",
      "1000/1000 [==============================] - 0s 79us/step - loss: 0.6756 - acc: 0.5840\n",
      "Epoch 8/10\n",
      "1000/1000 [==============================] - 0s 82us/step - loss: 0.6722 - acc: 0.5840\n",
      "Epoch 9/10\n",
      "1000/1000 [==============================] - 0s 87us/step - loss: 0.6642 - acc: 0.6050\n",
      "Epoch 10/10\n",
      "1000/1000 [==============================] - 0s 83us/step - loss: 0.6636 - acc: 0.6000\n",
      "_________________________________________________________________\n",
      "Layer (type)                 Output Shape              Param #   \n",
      "=================================================================\n",
      "dense_1 (Dense)              (None, 32)                3232      \n",
      "_________________________________________________________________\n",
      "dense_2 (Dense)              (None, 1)                 33        \n",
      "=================================================================\n",
      "Total params: 3,265\n",
      "Trainable params: 3,265\n",
      "Non-trainable params: 0\n",
      "_________________________________________________________________\n"
     ]
    }
   ],
   "source": [
    "from keras.models import Sequential\n",
    "from keras.layers import Dense, Activation\n",
    "\n",
    "model = Sequential()\n",
    "model.add(Dense(32, activation='relu', input_dim=100))\n",
    "model.add(Dense(1, activation='sigmoid'))\n",
    "model.compile(optimizer='rmsprop',\n",
    "              loss='binary_crossentropy',\n",
    "              metrics=['accuracy'])\n",
    "\n",
    "import numpy as np\n",
    "data = np.random.random((1000, 100))\n",
    "labels = np.random.randint(2, size=(1000, 1))\n",
    "\n",
    "model.fit(data, labels, epochs=10, batch_size=32)\n",
    "\n",
    "model.summary()\n",
    "\n"
   ]
  },
  {
   "cell_type": "code",
   "execution_count": null,
   "metadata": {},
   "outputs": [],
   "source": []
  }
 ],
 "metadata": {
  "kernelspec": {
   "display_name": "Python 3",
   "language": "python",
   "name": "python3"
  },
  "language_info": {
   "codemirror_mode": {
    "name": "ipython",
    "version": 3
   },
   "file_extension": ".py",
   "mimetype": "text/x-python",
   "name": "python",
   "nbconvert_exporter": "python",
   "pygments_lexer": "ipython3",
   "version": "3.6.2"
  }
 },
 "nbformat": 4,
 "nbformat_minor": 2
}
