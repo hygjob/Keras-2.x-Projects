{
 "cells": [
  {
   "cell_type": "markdown",
   "metadata": {},
   "source": [
    "1. 데이터 모으기\n",
    "\n",
    "머신러닝 데이터 (공개) - \n",
    "\thttps://archive.ics.uci.edu/ml/index.php\n",
    "\n",
    "2. 데이터 준비\n",
    "정수형 혹은 스트링형으로 변환등 분석에 필요한 형식으로 변환.\n",
    "\n",
    "3. 데이터 탐색\n",
    "데이터의 그래프를 그려보는 등 살펴본다. \n",
    "\n",
    "4. 알고리즘 학습\n",
    "\n",
    "5. 알고리즘 테스트\n",
    "\n",
    "6. 알고리즘 평가\n",
    "실제 데이터 적용\n",
    "\n",
    "7. 알고리즘 성능 향상\n",
    "\n",
    "케라스에서는 2가지 방식으로 모델을 정의\n",
    "\t시퀀셜\n",
    "\t함수 API\n",
    "\t\n",
    "\n",
    "케라스 시퀀셜 모델 아키텍처\n",
    "\n",
    "1. keras.models 임포트\n",
    "\n",
    "2. .add() 메서드로 레이어 붙이기\n",
    "\n",
    "3. compile() 메서드로 학습 프로세스 구성\n",
    "\n",
    "4. 데이터 임포트\n",
    "\n",
    "5. .fit() 메서드로 학습하기\n",
    "\n",
    "1번 단계의 예는 다음과 같다. \n",
    "from keras.models import Sequential\n",
    "from keras.layers import Dense, Activation\n"
   ]
  },
  {
   "cell_type": "markdown",
   "metadata": {},
   "source": [
    "1번 단계의 예는 다음과 같다. \n"
   ]
  },
  {
   "cell_type": "code",
   "execution_count": 2,
   "metadata": {},
   "outputs": [
    {
     "name": "stderr",
     "output_type": "stream",
     "text": [
      "Using TensorFlow backend.\n"
     ]
    }
   ],
   "source": [
    "from keras.models import Sequential\n",
    "from keras.layers import Dense, Activation"
   ]
  },
  {
   "cell_type": "markdown",
   "metadata": {},
   "source": [
    "시퀀셜 인스턴스화\n"
   ]
  },
  {
   "cell_type": "code",
   "execution_count": 3,
   "metadata": {},
   "outputs": [],
   "source": [
    "model = Sequential()"
   ]
  },
  {
   "cell_type": "markdown",
   "metadata": {},
   "source": [
    "add()로 레이어 연결\n",
    "\n"
   ]
  },
  {
   "cell_type": "code",
   "execution_count": 4,
   "metadata": {},
   "outputs": [],
   "source": [
    "model.add(Dense(32, activation='relu', input_dim=100))\n",
    "model.add(Dense(1, activation='sigmoid'))"
   ]
  },
  {
   "cell_type": "markdown",
   "metadata": {},
   "source": [
    "Dense는 피드포워드 전체 연결 레이어\n",
    "\n",
    "Dense의 파라미터\n",
    "\n",
    "* Number of hidden units\n",
    "* Activation function\n",
    "* Bias\n",
    "* Weight/bias initialization\n",
    "* Weight/bias regularization\n",
    "* Activation regularization"
   ]
  },
  {
   "cell_type": "markdown",
   "metadata": {},
   "source": [
    "학습절차 구성하기"
   ]
  },
  {
   "cell_type": "code",
   "execution_count": 5,
   "metadata": {},
   "outputs": [],
   "source": [
    "\n",
    "\n",
    "model.compile(optimizer='rmsprop',\n",
    "    loss='binary_crossentropy',\n",
    "    metrics=['accuracy'])\n",
    "    \n"
   ]
  },
  {
   "cell_type": "markdown",
   "metadata": {},
   "source": [
    "### three parameter\n",
    "\n",
    "* An optimizer\n",
    "* A loss function\n",
    "* A list of metrics"
   ]
  },
  {
   "cell_type": "markdown",
   "metadata": {},
   "source": [
    "# 배운 것 적용해보기"
   ]
  },
  {
   "cell_type": "code",
   "execution_count": 6,
   "metadata": {},
   "outputs": [
    {
     "name": "stdout",
     "output_type": "stream",
     "text": [
      "Epoch 1/10\n",
      "1000/1000 [==============================] - 0s 220us/step - loss: 0.7158 - acc: 0.4760\n",
      "Epoch 2/10\n",
      "1000/1000 [==============================] - 0s 75us/step - loss: 0.7016 - acc: 0.5100\n",
      "Epoch 3/10\n",
      "1000/1000 [==============================] - 0s 81us/step - loss: 0.6921 - acc: 0.5280\n",
      "Epoch 4/10\n",
      "1000/1000 [==============================] - 0s 81us/step - loss: 0.6891 - acc: 0.5420\n",
      "Epoch 5/10\n",
      "1000/1000 [==============================] - 0s 82us/step - loss: 0.6821 - acc: 0.5570\n",
      "Epoch 6/10\n",
      "1000/1000 [==============================] - 0s 83us/step - loss: 0.6795 - acc: 0.5700\n",
      "Epoch 7/10\n",
      "1000/1000 [==============================] - 0s 82us/step - loss: 0.6778 - acc: 0.5580\n",
      "Epoch 8/10\n",
      "1000/1000 [==============================] - 0s 83us/step - loss: 0.6714 - acc: 0.5780\n",
      "Epoch 9/10\n",
      "1000/1000 [==============================] - 0s 83us/step - loss: 0.6646 - acc: 0.6000\n",
      "Epoch 10/10\n",
      "1000/1000 [==============================] - 0s 82us/step - loss: 0.6658 - acc: 0.6020\n"
     ]
    },
    {
     "data": {
      "text/plain": [
       "<keras.callbacks.History at 0x7f5fe3cb1780>"
      ]
     },
     "execution_count": 6,
     "metadata": {},
     "output_type": "execute_result"
    }
   ],
   "source": [
    "import numpy as np\n",
    "data = np.random.random((1000, 100))\n",
    "labels = np.random.randint(2, size=(1000, 1))\n",
    "\n",
    "model.fit(data, labels, epochs=10, batch_size=32)\n"
   ]
  },
  {
   "cell_type": "markdown",
   "metadata": {},
   "source": [
    "위에서는 32개의 샘플을 한 그룹으로 하여 학습을 반복한다. \n",
    "몇줄 안 되는 코드로 첫번째 케라스 네트워크를 구성하였다. \n",
    "\n",
    "위의 예는 2개의 클래스를 갖고 단일 엔트리를 갖는 단순 2진 분류 모델을 보였다. "
   ]
  },
  {
   "cell_type": "markdown",
   "metadata": {},
   "source": [
    "케라스는 summary()로 모델의 요약정보를 제공한다. \n",
    "\n",
    "* The layers and their order in the model\n",
    "* The output shape of each layer\n",
    "* The number of parameters (weights) in each layer\n",
    "* The total number of parameters (weights) in the model"
   ]
  },
  {
   "cell_type": "code",
   "execution_count": 8,
   "metadata": {},
   "outputs": [
    {
     "name": "stdout",
     "output_type": "stream",
     "text": [
      "_________________________________________________________________\n",
      "Layer (type)                 Output Shape              Param #   \n",
      "=================================================================\n",
      "dense_1 (Dense)              (None, 32)                3232      \n",
      "_________________________________________________________________\n",
      "dense_2 (Dense)              (None, 1)                 33        \n",
      "=================================================================\n",
      "Total params: 3,265\n",
      "Trainable params: 3,265\n",
      "Non-trainable params: 0\n",
      "_________________________________________________________________\n"
     ]
    }
   ],
   "source": [
    "model.summary()"
   ]
  },
  {
   "cell_type": "markdown",
   "metadata": {},
   "source": [
    "## 케라스 함수 API 모델 아키텍처"
   ]
  },
  {
   "cell_type": "code",
   "execution_count": 9,
   "metadata": {},
   "outputs": [],
   "source": [
    "from keras.layers import Input, Dense\n",
    "from keras.models import Model\n",
    "\n",
    "InputTensor = Input(shape=(100,))"
   ]
  },
  {
   "cell_type": "markdown",
   "metadata": {},
   "source": [
    "위의 코드를 실행하면 텐서를 리턴한다. \n",
    "케라스 텐서는 모델의 입력과 출력만을 아는 상태에서도 케라스 모델을 구성할 수 있게 만들어 주는 텐서 객체이다. "
   ]
  },
  {
   "cell_type": "code",
   "execution_count": 14,
   "metadata": {},
   "outputs": [],
   "source": [
    "# 다음과 같이 레이어를 구성할 수 있다. \n",
    "\n",
    "H1 = Dense(10, activation='relu')(InputTensor)\n",
    "H2 = Dense(20, activation='relu')(H1)\n",
    "Output = Dense(1, activation='softmax')(H2)\n",
    "\n",
    "model = Model(inputs=InputTensor, outputs= Output)\n",
    "\n"
   ]
  },
  {
   "cell_type": "code",
   "execution_count": 15,
   "metadata": {},
   "outputs": [
    {
     "data": {
      "text/plain": [
       "'\\nThe model created has 100 inputs, two hidden layers with 10 and 20 neurons, and an\\noutput layer with one output\\n'"
      ]
     },
     "execution_count": 15,
     "metadata": {},
     "output_type": "execute_result"
    }
   ],
   "source": [
    "'''\n",
    "The model created has 100 inputs, two hidden layers with 10 and 20 neurons, and an\n",
    "output layer with one output\n",
    "'''\n",
    "\n"
   ]
  },
  {
   "cell_type": "code",
   "execution_count": 16,
   "metadata": {},
   "outputs": [
    {
     "name": "stdout",
     "output_type": "stream",
     "text": [
      "_________________________________________________________________\n",
      "Layer (type)                 Output Shape              Param #   \n",
      "=================================================================\n",
      "input_1 (InputLayer)         (None, 100)               0         \n",
      "_________________________________________________________________\n",
      "dense_6 (Dense)              (None, 10)                1010      \n",
      "_________________________________________________________________\n",
      "dense_7 (Dense)              (None, 20)                220       \n",
      "_________________________________________________________________\n",
      "dense_8 (Dense)              (None, 1)                 21        \n",
      "=================================================================\n",
      "Total params: 1,251\n",
      "Trainable params: 1,251\n",
      "Non-trainable params: 0\n",
      "_________________________________________________________________\n"
     ]
    }
   ],
   "source": [
    "model.summary()"
   ]
  },
  {
   "cell_type": "code",
   "execution_count": null,
   "metadata": {},
   "outputs": [],
   "source": []
  }
 ],
 "metadata": {
  "kernelspec": {
   "display_name": "Python 3",
   "language": "python",
   "name": "python3"
  },
  "language_info": {
   "codemirror_mode": {
    "name": "ipython",
    "version": 3
   },
   "file_extension": ".py",
   "mimetype": "text/x-python",
   "name": "python",
   "nbconvert_exporter": "python",
   "pygments_lexer": "ipython3",
   "version": "3.6.2"
  }
 },
 "nbformat": 4,
 "nbformat_minor": 2
}
